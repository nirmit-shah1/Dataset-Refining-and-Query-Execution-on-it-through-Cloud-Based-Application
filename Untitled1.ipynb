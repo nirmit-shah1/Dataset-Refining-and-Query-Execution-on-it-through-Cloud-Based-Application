{
 "cells": [
  {
   "cell_type": "code",
   "execution_count": 7,
   "metadata": {},
   "outputs": [],
   "source": [
    "import pandas as pd\n",
    "demo=pd.read_csv(\"nirmitpeople.csv\",usecols=['name','picture'])\n",
    "finaldata=demo"
   ]
  },
  {
   "cell_type": "code",
   "execution_count": 2,
   "metadata": {},
   "outputs": [],
   "source": [
    "\n",
    "count=len(finaldata)"
   ]
  },
  {
   "cell_type": "code",
   "execution_count": 3,
   "metadata": {},
   "outputs": [
    {
     "name": "stdout",
     "output_type": "stream",
     "text": [
      "[]\n",
      "empty\n"
     ]
    }
   ],
   "source": [
    "name=\"qwr\"\n",
    "select_price=[]\n",
    "select_price=finaldata.loc[finaldata['name'] == name].index.values\n",
    "print(select_price)\n",
    "if len(select_price)==0:\n",
    "    print(\"empty\")\n"
   ]
  },
  {
   "cell_type": "code",
   "execution_count": 8,
   "metadata": {},
   "outputs": [
    {
     "name": "stdout",
     "output_type": "stream",
     "text": [
      "[]\n",
      "[]\n",
      "[]\n"
     ]
    }
   ],
   "source": [
    "    minvalue = 300\n",
    "    maxvalue=100\n",
    "    demoa=pd.read_csv(\"names.csv\",usecols=['Name','Room','Picture','Caption'])\n",
    "    finaldataa=demoa\n",
    "    select_price=[]\n",
    "    select_price=finaldataa.loc[(finaldataa['Room'] >= minvalue) & (finaldataa['Room'] <= minvalue)  ].index.values\n",
    "    dataa=[]\n",
    "    capt=[]\n",
    "    name=[]\n",
    "    if len(select_price)==0:\n",
    "        dataa=[]\n",
    "        capt=[]\n",
    "        name=[]\n",
    "    else:\n",
    "        length_count=len(select_price)\n",
    "        for i in range(0,length_count):\n",
    "            mine=select_price[i]\n",
    "            sam=demoa.at[mine,'Picture']\n",
    "            user=demoa.at[mine,'Name']\n",
    "            caption=demoa.at[mine,'Caption']\n",
    "            final=sam\n",
    "            dataa.append(final)\n",
    "            capt.append(caption)\n",
    "            name.append(user)\n",
    "print(dataa)\n",
    "print(capt)\n",
    "print(name)"
   ]
  },
  {
   "cell_type": "code",
   "execution_count": 5,
   "metadata": {},
   "outputs": [
    {
     "name": "stdout",
     "output_type": "stream",
     "text": [
      "1\n"
     ]
    }
   ],
   "source": [
    "length_count=len(select_price)\n",
    "print(length_count)"
   ]
  },
  {
   "cell_type": "code",
   "execution_count": 16,
   "metadata": {},
   "outputs": [
    {
     "name": "stdout",
     "output_type": "stream",
     "text": [
      "app.py\t Last Modified: 10 Jun 2020 \t Size: 2303\n",
      "nirmitpeople.csv\t Last Modified: 11 Jun 2020 \t Size: 152\n",
      "Pipfile\t Last Modified: 17 Feb 2020 \t Size: 359\n",
      "Procfile\t Last Modified: 04 Feb 2020 \t Size: 18\n",
      "requirements.txt\t Last Modified: 07 Jun 2020 \t Size: 193\n",
      "runtime.txt\t Last Modified: 07 Jun 2020 \t Size: 12\n",
      "Untitled1.ipynb\t Last Modified: 11 Jun 2020 \t Size: 4493\n"
     ]
    }
   ],
   "source": [
    "from datetime import datetime\n",
    "from os import scandir\n",
    "\n",
    "f_name=[]\n",
    "f_date=[]\n",
    "f_size=[]\n",
    "\n",
    "def convert_date(timestamp):\n",
    "    d = datetime.utcfromtimestamp(timestamp)\n",
    "    formated_date = d.strftime('%d %b %Y')\n",
    "    return formated_date\n",
    "\n",
    "def get_files():\n",
    "    dir_entries = scandir('.')\n",
    "    for entry in dir_entries:\n",
    "        if entry.is_file():\n",
    "            info = entry.stat()\n",
    "            file_size = os.path.getsize(entry.name)\n",
    "            print(f'{entry.name}\\t Last Modified: {convert_date(info.st_mtime)} \\t Size: {file_size}')\n",
    "            f_name.append(entry.name)\n",
    "            f_date.append({convert_date(info.st_mtime)})\n",
    "            f_size.append(file_size)\n",
    "            \n",
    "get_files()"
   ]
  },
  {
   "cell_type": "code",
   "execution_count": 6,
   "metadata": {},
   "outputs": [
    {
     "name": "stdout",
     "output_type": "stream",
     "text": [
      "0\n"
     ]
    }
   ],
   "source": [
    "\n",
    "data=[]\n",
    "for i in range(0,length_count):\n",
    "    print(i)\n",
    "    mine=select_price[i]\n",
    "    sam=demo.at[mine,'picture']\n",
    "    sample=\"./images/\"\n",
    "    final=sample+sam\n",
    "    data.append(final)"
   ]
  },
  {
   "cell_type": "code",
   "execution_count": 7,
   "metadata": {},
   "outputs": [
    {
     "name": "stdout",
     "output_type": "stream",
     "text": [
      "['./images/abc1.png']\n"
     ]
    }
   ],
   "source": [
    "print(data)"
   ]
  },
  {
   "cell_type": "code",
   "execution_count": 8,
   "metadata": {},
   "outputs": [
    {
     "name": "stdout",
     "output_type": "stream",
     "text": [
      "nirmitpeople.csv\n"
     ]
    }
   ],
   "source": [
    "import os,fnmatch\n",
    "listOfFiles = os.listdir('.')\n",
    "pattern = \"*.csv\"\n",
    "for entry in listOfFiles:\n",
    "    if fnmatch.fnmatch(entry, pattern):\n",
    "            print (entry)"
   ]
  },
  {
   "cell_type": "code",
   "execution_count": 9,
   "metadata": {},
   "outputs": [],
   "source": [
    "import os,fnmatch\n",
    "listOfFiles = os.listdir('./images')\n",
    "pattern = \"*.png\"\n",
    "png_file=[]\n",
    "for entry in listOfFiles:\n",
    "    if fnmatch.fnmatch(entry, pattern):\n",
    "           png_file.append(entry)"
   ]
  },
  {
   "cell_type": "code",
   "execution_count": 10,
   "metadata": {},
   "outputs": [
    {
     "name": "stdout",
     "output_type": "stream",
     "text": [
      "['abc.png']\n"
     ]
    }
   ],
   "source": [
    "print(png_file)"
   ]
  },
  {
   "cell_type": "code",
   "execution_count": null,
   "metadata": {},
   "outputs": [],
   "source": []
  }
 ],
 "metadata": {
  "kernelspec": {
   "display_name": "Python 3",
   "language": "python",
   "name": "python3"
  },
  "language_info": {
   "codemirror_mode": {
    "name": "ipython",
    "version": 3
   },
   "file_extension": ".py",
   "mimetype": "text/x-python",
   "name": "python",
   "nbconvert_exporter": "python",
   "pygments_lexer": "ipython3",
   "version": "3.7.6"
  }
 },
 "nbformat": 4,
 "nbformat_minor": 4
}
